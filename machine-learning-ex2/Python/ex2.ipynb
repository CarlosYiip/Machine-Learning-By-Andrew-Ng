{
 "cells": [
  {
   "cell_type": "code",
   "execution_count": 21,
   "metadata": {
    "collapsed": false
   },
   "outputs": [],
   "source": [
    "# Part1: Load data\n",
    "import numpy as np\n",
    "\n",
    "raw_data = np.loadtxt('ex2data1.txt', delimiter=',')\n",
    "X, Y = raw_data[:, 0:2].copy(), raw_data[:, 2:].copy()"
   ]
  },
  {
   "cell_type": "code",
   "execution_count": 82,
   "metadata": {
    "collapsed": false
   },
   "outputs": [
    {
     "data": {
      "text/plain": [
       "(array([[ 0.69314718]]), array([[ -0.1       , -12.00921659, -11.26284221]]))"
      ]
     },
     "execution_count": 82,
     "metadata": {},
     "output_type": "execute_result"
    }
   ],
   "source": [
    "# Part2: Compute Cost and Gradient\n",
    "def sigmoid(z):\n",
    "    m, n = len(z), len(z[0])\n",
    "    g = np.zeros((m, n))\n",
    "    for i in range(m):\n",
    "        for j in range(n):\n",
    "            g[i][j] = 1 / (1 + np.exp(-z[i][j]))\n",
    "    return g\n",
    "    \n",
    "    \n",
    "\n",
    "def costFunction(theta, X, Y):\n",
    "    m = len(Y)\n",
    "    J = 0\n",
    "    grad = np.zeros((3, 1))\n",
    "    J = (-Y.T @ np.log(sigmoid(X @ theta)) - (1 - Y).T @ np.log(1 - sigmoid(X @ theta))) / m\n",
    "    grad = (sigmoid(X @ theta) - Y).T @ X / m\n",
    "    return J, grad\n",
    "\n",
    "\n",
    "\n",
    "\n",
    "m, n = X.shape\n",
    "initial_theta = np.zeros((3, 1))\n",
    "if n == 2:\n",
    "    X = np.insert(X.copy(), 0, 1, axis=1)\n",
    "costFunction(initial_theta, X, Y)"
   ]
  }
 ],
 "metadata": {
  "kernelspec": {
   "display_name": "Python 3",
   "language": "python",
   "name": "python3"
  },
  "language_info": {
   "codemirror_mode": {
    "name": "ipython",
    "version": 3
   },
   "file_extension": ".py",
   "mimetype": "text/x-python",
   "name": "python",
   "nbconvert_exporter": "python",
   "pygments_lexer": "ipython3",
   "version": "3.6.0"
  }
 },
 "nbformat": 4,
 "nbformat_minor": 2
}
