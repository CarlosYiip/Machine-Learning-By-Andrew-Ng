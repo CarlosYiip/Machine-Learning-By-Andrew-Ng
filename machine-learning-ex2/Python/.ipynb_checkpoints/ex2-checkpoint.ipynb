{
 "cells": [
  {
   "cell_type": "code",
   "execution_count": 21,
   "metadata": {
    "collapsed": false
   },
   "outputs": [],
   "source": [
    "# Part1: Load data\n",
    "import numpy as np\n",
    "\n",
    "raw_data = np.loadtxt('ex2data1.txt', delimiter=',')\n",
    "X, Y = raw_data[:, 0:2].copy(), raw_data[:, 2:].copy()"
   ]
  },
  {
   "cell_type": "code",
   "execution_count": 44,
   "metadata": {
    "collapsed": false
   },
   "outputs": [
    {
     "name": "stdout",
     "output_type": "stream",
     "text": [
      "[ 0.  0.  0.]\n",
      "[[-0. -0. -0. -1. -1. -0. -1. -1. -1. -1. -0. -0. -1. -1. -0. -1. -1. -0.\n",
      "  -1. -1. -0. -1. -0. -0. -1. -1. -1. -0. -0. -0. -1. -1. -0. -1. -0. -0.\n",
      "  -0. -1. -0. -0. -1. -0. -1. -0. -0. -0. -1. -1. -1. -1. -1. -1. -1. -0.\n",
      "  -0. -0. -1. -0. -1. -1. -1. -0. -0. -0. -0. -0. -1. -0. -1. -1. -0. -1.\n",
      "  -1. -1. -1. -1. -1. -1. -0. -0. -1. -1. -1. -1. -1. -1. -0. -1. -1. -0.\n",
      "  -1. -1. -0. -1. -1. -1. -1. -1. -1. -1.]]\n"
     ]
    }
   ],
   "source": [
    "# Part2: Compute Cost and Gradient\n",
    "def costFunction(theta, X, Y):\n",
    "    m = len(Y)\n",
    "    J = 0\n",
    "    grad = np.zeros(theta.size)\n",
    "    print(-Y.T)\n",
    "\n",
    "\n",
    "\n",
    "\n",
    "m, n = X.shape\n",
    "initial_theta = np.zeros((3, 1))\n",
    "if n == 2:\n",
    "    X = np.insert(X.copy(), 0, 1, axis=1)\n",
    "costFunction(initial_theta, X, Y)"
   ]
  }
 ],
 "metadata": {
  "kernelspec": {
   "display_name": "Python 3",
   "language": "python",
   "name": "python3"
  },
  "language_info": {
   "codemirror_mode": {
    "name": "ipython",
    "version": 3
   },
   "file_extension": ".py",
   "mimetype": "text/x-python",
   "name": "python",
   "nbconvert_exporter": "python",
   "pygments_lexer": "ipython3",
   "version": "3.6.0"
  }
 },
 "nbformat": 4,
 "nbformat_minor": 2
}
